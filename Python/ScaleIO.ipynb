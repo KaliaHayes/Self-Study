{
 "cells": [
  {
   "cell_type": "markdown",
   "metadata": {},
   "source": [
    "# ScaleIO Meeting"
   ]
  },
  {
   "cell_type": "markdown",
   "metadata": {},
   "source": [
    "## Terms Y Mas\n",
    "\n",
    "server objects, linked server, CISS, catalog, view, system views Splunk_array & splunk_devicearrayluna\n",
    "\n",
    "* LUN (storage concept)\n",
    "* Thin (lie, give them as much as they need to matter the request; increase later per request) VS Thick (car, not a lie, gives actual requested amount) provisioning in storage\n",
    "* Software Defined Storage\n",
    "* capacity (allocated amount of storage; max possible), provisioned(amount of storage offered out), and committed(the amount of storage actually being used) storage\n",
    "* understanding cloud virtualization\n",
    "* cheap & deep storage\n",
    "\n",
    "We need to put together a storage picture for Matt by pod/datacenter/tier/place(?) and develop a forecast for the storage environment.\n",
    "\n",
    "Where is the data stored (non-source code)?"
   ]
  },
  {
   "cell_type": "code",
   "execution_count": null,
   "metadata": {},
   "outputs": [],
   "source": []
  }
 ],
 "metadata": {
  "kernelspec": {
   "display_name": "Python 3",
   "language": "python",
   "name": "python3"
  },
  "language_info": {
   "codemirror_mode": {
    "name": "ipython",
    "version": 3
   },
   "file_extension": ".py",
   "mimetype": "text/x-python",
   "name": "python",
   "nbconvert_exporter": "python",
   "pygments_lexer": "ipython3",
   "version": "3.6.4"
  }
 },
 "nbformat": 4,
 "nbformat_minor": 4
}
