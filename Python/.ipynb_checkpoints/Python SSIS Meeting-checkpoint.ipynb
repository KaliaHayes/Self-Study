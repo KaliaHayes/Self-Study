{
 "cells": [
  {
   "cell_type": "markdown",
   "metadata": {},
   "source": [
    "# Python SSIS Meeting (10a)"
   ]
  },
  {
   "cell_type": "markdown",
   "metadata": {},
   "source": [
    "ipscdb > integration > SSISDB > excel_imports > ?"
   ]
  },
  {
   "cell_type": "markdown",
   "metadata": {},
   "source": [
    "## How Data is Loaded:\n",
    "\n",
    "Files will be stored in Jupyter and we'll be able to pull them in in read-only mode in the Dropbox folder.\n",
    "\n",
    "Ahmed is running the show. Ask about templates, rummage through his code, etc. _Might_ be named Untitled rn, we'll see.\n",
    "\n",
    "Tables stored on Dev database to start. -- _What's the dev DB?_\n",
    "\n",
    "George P wants to automate all procurement of infra.\n",
    "\n",
    "## TL;DR\n",
    "\n",
    "Create a Python script for each excel spreadsheet that will read the file and push the data into an appropriate DB table. Will have a scheduler and an importer filespace which will work together to push the new data into a DB table.\n",
    "\n",
    "_Touchbase Monday 9/9/19; end of the sprint is Friday so have a working DEV sandbox by then._\n",
    "\n",
    "How I think this will go (creating a script for each spreadsheet)?????\n",
    "\n",
    "* open the spreadsheet, read the spreadsheet, save it to a variable\n",
    "* connect to the DB using Python\n",
    "* use cursor to traverse database\n",
    "* create a foor loop that iterates through the spreadsheet (starting at row 2, leaving out column names), assigns values, and executes the SQL query cursor.execute(query, value)\n",
    "* close the cursor\n",
    "* commit the changes to the db\n",
    "* close the DB connection"
   ]
  },
  {
   "cell_type": "markdown",
   "metadata": {},
   "source": [
    "# Python SSIS Meeting cont. (3p)"
   ]
  },
  {
   "cell_type": "markdown",
   "metadata": {},
   "source": [
    "**SSIS.ipynb** files has the goods.\n",
    "\n",
    "Imports: sqlalchemy, pandas, xlrd, urllib, pyobdc, datetime, os\n",
    "\n",
    "Ahmed's method:\n",
    "\n",
    "* import the needed stuff\n",
    "* connect to DB (w/proper permissions?) \n",
    "    - note: you will need a new connection for each db\n",
    "    - make sure your relevant variables aren't overwriting the others when dealing w/a new db\n",
    "* if table exists, replace it not append\n",
    "* index = false"
   ]
  },
  {
   "cell_type": "code",
   "execution_count": null,
   "metadata": {},
   "outputs": [],
   "source": []
  }
 ],
 "metadata": {
  "kernelspec": {
   "display_name": "Python 3",
   "language": "python",
   "name": "python3"
  },
  "language_info": {
   "codemirror_mode": {
    "name": "ipython",
    "version": 3
   },
   "file_extension": ".py",
   "mimetype": "text/x-python",
   "name": "python",
   "nbconvert_exporter": "python",
   "pygments_lexer": "ipython3",
   "version": "3.6.4"
  }
 },
 "nbformat": 4,
 "nbformat_minor": 4
}
