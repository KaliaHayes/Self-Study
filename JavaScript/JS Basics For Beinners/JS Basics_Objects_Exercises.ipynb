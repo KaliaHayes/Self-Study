{
 "cells": [
  {
   "cell_type": "code",
   "execution_count": 1,
   "metadata": {
    "scrolled": true
   },
   "outputs": [
    {
     "name": "stdout",
     "output_type": "stream",
     "text": [
      "Kalia\n"
     ]
    }
   ],
   "source": [
    "console.log('Kalia');"
   ]
  },
  {
   "cell_type": "markdown",
   "metadata": {},
   "source": [
    "# Address Object\n",
    "\n",
    "**Create an address object with 3 properties: street, city, zip code. then create a func called showAddress that displays all properties in the obj, along wit their value.**"
   ]
  },
  {
   "cell_type": "code",
   "execution_count": 7,
   "metadata": {},
   "outputs": [
    {
     "name": "stdout",
     "output_type": "stream",
     "text": [
      "street Marsh Ln\n",
      "city Dallas\n",
      "zip code 75287\n"
     ]
    }
   ],
   "source": [
    "let addy = {\n",
    "    'street': 'Marsh Ln',\n",
    "    'city': 'Dallas',\n",
    "    'zip code': 75287\n",
    "};\n",
    "\n",
    "function showAddress() {\n",
    "    for (let key in addy) \n",
    "        console.log(key, addy[key])\n",
    "};\n",
    "\n",
    "showAddress(addy)"
   ]
  },
  {
   "cell_type": "markdown",
   "metadata": {},
   "source": [
    "# Factory and Constructor Function\n",
    "\n",
    "Create a constructor and factory function for the addy function above."
   ]
  },
  {
   "cell_type": "code",
   "execution_count": null,
   "metadata": {},
   "outputs": [],
   "source": [
    "function SAC() {\n",
    "    this.street = 'Marsh Ln';\n",
    "    this.city = 'Dallas';\n",
    "    this.zip = 75287;\n",
    "    this.output = addyC() {\n",
    "        for (let key in )\n",
    "    }\n",
    "}"
   ]
  }
 ],
 "metadata": {
  "kernelspec": {
   "display_name": "Javascript (Node.js)",
   "language": "javascript",
   "name": "javascript"
  },
  "language_info": {
   "file_extension": ".js",
   "mimetype": "application/javascript",
   "name": "javascript",
   "version": "12.6.0"
  }
 },
 "nbformat": 4,
 "nbformat_minor": 4
}
